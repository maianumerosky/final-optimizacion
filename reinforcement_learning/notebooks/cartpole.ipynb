{
 "cells": [
  {
   "cell_type": "code",
   "execution_count": 1,
   "metadata": {},
   "outputs": [],
   "source": [
    "from time import sleep\n",
    "\n",
    "import gym\n",
    "import numpy as np\n",
    "import pandas as pd\n",
    "import torch\n",
    "from tqdm.auto import tqdm\n",
    "\n",
    "from reinforcement_learning.utils.agent import Agent\n",
    "from reinforcement_learning.utils.dataset import Dataset\n",
    "from reinforcement_learning.utils.learner import Learner\n",
    "from reinforcement_learning.utils.policy import Policy\n"
   ]
  },
  {
   "cell_type": "code",
   "execution_count": 2,
   "metadata": {},
   "outputs": [],
   "source": [
    "np.set_printoptions(precision=2)"
   ]
  },
  {
   "cell_type": "code",
   "execution_count": 8,
   "metadata": {},
   "outputs": [],
   "source": [
    "environment = gym.make('CartPole-v0')\n",
    "\n",
    "state = environment.reset()\n",
    "done = False\n",
    "while not done:\n",
    "    action = environment.action_space.sample()\n",
    "    state, reward, done, info = environment.step(action=action)\n",
    "    environment.render()\n",
    "    sleep(0.1)\n",
    "environment.close()"
   ]
  },
  {
   "cell_type": "markdown",
   "source": [
    "Acciones aleatorias."
   ],
   "metadata": {
    "collapsed": false,
    "pycharm": {
     "name": "#%% md\n"
    }
   }
  },
  {
   "cell_type": "code",
   "execution_count": 3,
   "metadata": {},
   "outputs": [],
   "source": [
    "environment = gym.make('CartPole-v0')\n",
    "\n",
    "cumulative_rewards = []\n",
    "for episode in range(350):\n",
    "    cumulative_reward = 0\n",
    "    state = environment.reset()\n",
    "    done = False\n",
    "    while not done:\n",
    "        action = environment.action_space.sample()\n",
    "        state, reward, done, info = environment.step(action=action)\n",
    "        cumulative_reward += reward\n",
    "    cumulative_rewards.append(cumulative_reward)\n",
    "\n",
    "pd.Series(cumulative_rewards).plot()"
   ]
  },
  {
   "cell_type": "markdown",
   "source": [
    "Metemos agente y policy. Primero con epsilon 0 y después 0.1 para agregar un poco de aleatoriedad.\n",
    "Pero este agente no optimiza, no aprende."
   ],
   "metadata": {
    "collapsed": false
   }
  },
  {
   "cell_type": "code",
   "execution_count": 5,
   "outputs": [],
   "source": [
    "policy = Policy(state_dimension=4, num_actions=2)\n",
    "agent = Agent(policy=policy)\n",
    "\n",
    "state = environment.reset()\n",
    "done = False\n",
    "while not done:\n",
    "    action = agent.select_action(state=state)\n",
    "    state, reward, done, info = environment.step(action=action)"
   ],
   "metadata": {
    "collapsed": false,
    "pycharm": {
     "name": "#%%\n"
    }
   }
  },
  {
   "cell_type": "code",
   "execution_count": 6,
   "metadata": {},
   "outputs": [],
   "source": [
    "policy = Policy(state_dimension=4, num_actions=2)\n",
    "agent = Agent(policy=policy)\n",
    "\n",
    "for episode in range(350):\n",
    "    state = environment.reset()\n",
    "    done = False\n",
    "    while not done:\n",
    "        action = agent.select_action(state=state, epsilon=0.1)\n",
    "        state, reward, done, info = environment.step(action=action)"
   ]
  },
  {
   "cell_type": "code",
   "execution_count": 7,
   "metadata": {},
   "outputs": [],
   "source": [
    "policy = Policy(state_dimension=4, num_actions=2)\n",
    "agent = Agent(policy=policy)\n",
    "\n",
    "cumulative_rewards = []\n",
    "for episode in range(350):\n",
    "    cumulative_reward = 0\n",
    "    state = environment.reset()\n",
    "    done = False\n",
    "    while not done:\n",
    "        action = agent.select_action(state=state, epsilon=0.1)\n",
    "        state, reward, done, info = environment.step(action=action)\n",
    "        cumulative_reward += reward\n",
    "    cumulative_rewards.append(cumulative_reward)\n",
    "\n",
    "pd.Series(cumulative_rewards).plot()"
   ]
  },
  {
   "cell_type": "markdown",
   "source": [
    "Metemos un dataset. Es simplemente una cola first-in-first-out."
   ],
   "metadata": {
    "collapsed": false,
    "pycharm": {
     "name": "#%% md\n"
    }
   }
  },
  {
   "cell_type": "code",
   "execution_count": 10,
   "metadata": {},
   "outputs": [],
   "source": [
    "policy = Policy(state_dimension=4, num_actions=2)\n",
    "agent = Agent(policy=policy)\n",
    "dataset = Dataset(max_length=10_000)\n",
    "\n",
    "for episode in range(350):\n",
    "    state = environment.reset()\n",
    "    done = False\n",
    "    while not done:\n",
    "        action = agent.select_action(state=state, epsilon=0.1)\n",
    "        next_state, reward, done, info = environment.step(action=action)\n",
    "        dataset.push((state, action, reward, next_state, done))\n",
    "        state = next_state"
   ]
  },
  {
   "cell_type": "markdown",
   "source": [
    "### Nuestro objetivo es modificar los pesos del modelo de la policy para mejorarla.###\n",
    "\n",
    "- Llamamos $model(state)[0]=Q(state,0)$ y $model(state)[1]=Q(state,1)$.\n",
    "\n",
    "Idealmente,\n",
    "\n",
    "$Q(state,0)=$ máximo de los rewards acumulados empezando en $state$ y tomando primero acción 0\n",
    "\n",
    "$Q(state,1)=$ máximo de los rewards acumulados empezando en $state$ y tomando primero acción 1.\n",
    "\n",
    "- La ecuación de Bellman nos dice que\n",
    "\n",
    "$ Q(state, a) = reward + max_{a'} Q(next\\text{_}state, a') $ si el episodio no termina en $next\\text{_}observation$\n",
    "\n",
    "$ Q(state, a) = reward $ si el episodio termina en $next\\text{_}observation$\n",
    "\n",
    "o sea\n",
    "\n",
    "$ Q(state, a) - reward - max_{a'} Q(next\\text{_}state, a') = 0$ si el episodio no termina en $next\\text{_}observation$\n",
    "\n",
    "$ Q(state, a) - reward = 0$ si el episodio termina en $next\\text{_}observation$\n",
    "\n",
    "- entonces intentamos optimizar\n",
    "\n",
    "$ (Q(state, a) - reward - max_{a'} Q(next\\text{_}state, a'))^2$ si $done=False$\n",
    "\n",
    "$ (Q(state, a) - reward)^2$ si $done=True$"
   ],
   "metadata": {
    "collapsed": false,
    "pycharm": {
     "name": "#%% md\n"
    }
   }
  },
  {
   "cell_type": "markdown",
   "source": [
    "Esto sería para una iteración (pero no lo vamos a usar porque vamos a usar *mini-batches* y tomar el promedio. Esto es solo ilustrativo)."
   ],
   "metadata": {
    "collapsed": false,
    "pycharm": {
     "name": "#%% md\n"
    }
   }
  },
  {
   "cell_type": "code",
   "execution_count": 11,
   "metadata": {},
   "outputs": [],
   "source": [
    "state, action, reward, next_state, done = dataset.sample(1)[0]\n",
    "\n",
    "# Convert types\n",
    "state = torch.Tensor(state)\n",
    "next_state = torch.Tensor(next_state)\n",
    "\n",
    "# Compute loss\n",
    "q = policy.model(state)[action]\n",
    "next_values = policy.model(next_state)\n",
    "\n",
    "if not done:\n",
    "    loss = (q - reward - next_values.max()) ** 2\n",
    "else:\n",
    "    loss = (q - reward) ** 2\n"
   ]
  },
  {
   "cell_type": "code",
   "execution_count": 12,
   "metadata": {},
   "outputs": [],
   "source": [
    "environment = gym.make('CartPole-v0')\n",
    "\n",
    "policy = Policy(state_dimension=4, num_actions=2)\n",
    "agent = Agent(policy=policy)\n",
    "dataset = Dataset(max_length=10_000)\n",
    "learner = Learner(policy=policy, batch_size=16)\n",
    "\n",
    "for episode in range(350):\n",
    "    state = environment.reset()\n",
    "    done = False\n",
    "    while not done:\n",
    "        action = agent.select_action(state, 0.1)\n",
    "        next_state, reward, done, info = environment.step(action=action)\n",
    "        dataset.push((state, action, reward, next_state, done))\n",
    "        state = next_state\n",
    "        learner.update(dataset)"
   ]
  },
  {
   "cell_type": "markdown",
   "metadata": {},
   "source": [
    "## Train until winning 5 times in a row\n"
   ]
  },
  {
   "cell_type": "code",
   "execution_count": 13,
   "metadata": {},
   "outputs": [],
   "source": [
    "import copy"
   ]
  },
  {
   "cell_type": "code",
   "execution_count": 15,
   "metadata": {},
   "outputs": [
    {
     "data": {
      "text/plain": "  0%|          | 0/35000 [00:00<?, ?it/s]",
      "application/vnd.jupyter.widget-view+json": {
       "version_major": 2,
       "version_minor": 0,
       "model_id": "5a97da31590d40c5af5be550ba2727be"
      }
     },
     "metadata": {},
     "output_type": "display_data"
    }
   ],
   "source": [
    "environment = gym.make('CartPole-v0')\n",
    "\n",
    "policy = Policy(state_dimension=4, num_actions=2)\n",
    "agent = Agent(policy=policy)\n",
    "dataset = Dataset(max_length=10_000)\n",
    "learner = Learner(policy=policy, batch_size=16)\n",
    "agents = []\n",
    "\n",
    "cumulative_rewards = []\n",
    "is_winner = False\n",
    "for episode in tqdm(range(35000)):\n",
    "    if is_winner:\n",
    "        break\n",
    "    cumulative_reward = 0\n",
    "    # run episode\n",
    "    state = environment.reset()\n",
    "    done = False\n",
    "    while not done:\n",
    "        action = agent.select_action(state, epsilon=0.15)\n",
    "        next_state, reward, done, info = environment.step(action=action)\n",
    "        dataset.push((state, action, reward, next_state, done))\n",
    "        state = next_state\n",
    "        learner.update(dataset)\n",
    "        cumulative_reward += reward\n",
    "    cumulative_rewards.append(cumulative_reward)\n",
    "\n",
    "    # evaluate agent\n",
    "    if episode % 25 == 0:\n",
    "        agents.append(copy.deepcopy(agent))\n",
    "        for _ in range(5):\n",
    "            total_reward = 0\n",
    "            state = environment.reset()\n",
    "            done = False\n",
    "            while not done:\n",
    "                action = agent.select_action(state)\n",
    "                state, reward, done, info = environment.step(action=action)\n",
    "                total_reward += reward\n",
    "            if total_reward < 190:\n",
    "                is_winner = False\n",
    "                break\n",
    "            is_winner = True"
   ]
  },
  {
   "cell_type": "code",
   "execution_count": 16,
   "metadata": {},
   "outputs": [
    {
     "data": {
      "text/plain": "<AxesSubplot:>"
     },
     "execution_count": 16,
     "metadata": {},
     "output_type": "execute_result"
    },
    {
     "data": {
      "text/plain": "<Figure size 432x288 with 1 Axes>",
      "image/png": "[encoded data removed]"
     },
     "metadata": {
      "needs_background": "light"
     },
     "output_type": "display_data"
    }
   ],
   "source": [
    "pd.Series(cumulative_rewards).plot()"
   ]
  },
  {
   "cell_type": "code",
   "execution_count": 17,
   "metadata": {},
   "outputs": [],
   "source": [
    "from gym import wrappers\n",
    "\n",
    "environment = gym.make('CartPole-v0')\n",
    "\n",
    "for i, a in enumerate([agents[0]] + agents[-5:]):\n",
    "    environment = wrappers.Monitor(environment, f'./videito_{i}', force=True)\n",
    "    state = environment.reset()\n",
    "    done = False\n",
    "    while not done:\n",
    "        action = a.select_action(state)\n",
    "        state, reward, done, info = environment.step(action=action)\n",
    "        environment.render()\n",
    "        sleep(0.1)\n",
    "    environment.close()"
   ]
  },
  {
   "cell_type": "code",
   "execution_count": 18,
   "metadata": {},
   "outputs": [
    {
     "data": {
      "text/plain": "[<reinforcement_learning.utils.agent.Agent at 0x7f84a448e780>,\n <reinforcement_learning.utils.agent.Agent at 0x7f84a3b6a630>,\n <reinforcement_learning.utils.agent.Agent at 0x7f84a3b6a978>]"
     },
     "execution_count": 18,
     "metadata": {},
     "output_type": "execute_result"
    }
   ],
   "source": [
    "agents"
   ]
  },
  {
   "cell_type": "code",
   "execution_count": null,
   "metadata": {},
   "outputs": [],
   "source": []
  }
 ],
 "metadata": {
  "kernelspec": {
   "display_name": "Python 3",
   "language": "python",
   "name": "python3"
  },
  "language_info": {
   "codemirror_mode": {
    "name": "ipython",
    "version": 3
   },
   "file_extension": ".py",
   "mimetype": "text/x-python",
   "name": "python",
   "nbconvert_exporter": "python",
   "pygments_lexer": "ipython3",
   "version": "3.6.10"
  }
 },
 "nbformat": 4,
 "nbformat_minor": 4
}